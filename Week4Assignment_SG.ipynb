{
 "cells": [
  {
   "cell_type": "markdown",
   "metadata": {},
   "source": [
    " #  My Jupyter Notebook on IBM Watson Studio"
   ]
  },
  {
   "cell_type": "markdown",
   "metadata": {},
   "source": [
    "**Sandip Ghimire** <br>\n",
    "Health Informatics Analyst"
   ]
  },
  {
   "cell_type": "markdown",
   "metadata": {},
   "source": [
    "*I am interested in Data Science because data is ubiquitous, and thus there is enormous value in studying data to answer questions, identify problems, and find solutions. In the health sector, Data Science can help study population level, patient level, and genetic level data to address issues such as stemming disease spread, coordinating patient care, and early diagnosis of diseases.*"
   ]
  },
  {
   "cell_type": "markdown",
   "metadata": {},
   "source": [
    "### How to use power sign in Jupyter Notebook"
   ]
  },
  {
   "cell_type": "code",
   "execution_count": 17,
   "metadata": {},
   "outputs": [
    {
     "data": {
      "text/plain": [
       "20"
      ]
     },
     "execution_count": 17,
     "metadata": {},
     "output_type": "execute_result"
    }
   ],
   "source": [
    "# We use two asteriks to denote power sign\n",
    "2**2 + 4**2"
   ]
  },
  {
   "cell_type": "markdown",
   "metadata": {},
   "source": [
    "I want to separate this line from the line below\n",
    "***\n",
    "This line is separated by a horizontal line from the above line \n",
    "<br>\n",
    "<br>\n",
    "\n",
    "I may buy these items next time I go grocery:\n",
    "1. Milk\n",
    "2. Bread\n",
    "3. Egg\n",
    "4. Spinach\n",
    "<br>\n",
    "<br>\n",
    "\n",
    "My to do list for this Saturday:\n",
    "* Go for hiking\n",
    "* Finish report\n",
    "* Call mum\n",
    "\n",
    "<br>\n",
    "<br>\n",
    "\n",
    "Example table:\n",
    "\n",
    "| Country | Code | Capital |\n",
    "| ------ | ------ | ------ |\n",
    "| Japan | JPN | Tokyo |\n",
    "| United Kingdom | GBR | London |\n",
    "| Vietnam | VNM | Hanoi |\n",
    "\n",
    "\n",
    "Example of strikethrough:<br>\n",
    "~~Some more examples is written below.~~\n"
   ]
  },
  {
   "cell_type": "code",
   "execution_count": null,
   "metadata": {},
   "outputs": [],
   "source": []
  }
 ],
 "metadata": {
  "kernelspec": {
   "display_name": "Python 3",
   "language": "python",
   "name": "python3"
  },
  "language_info": {
   "codemirror_mode": {
    "name": "ipython",
    "version": 3
   },
   "file_extension": ".py",
   "mimetype": "text/x-python",
   "name": "python",
   "nbconvert_exporter": "python",
   "pygments_lexer": "ipython3",
   "version": "3.7.4"
  }
 },
 "nbformat": 4,
 "nbformat_minor": 2
}
